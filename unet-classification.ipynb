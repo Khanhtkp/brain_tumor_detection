{
 "metadata": {
  "kernelspec": {
   "language": "python",
   "display_name": "Python 3",
   "name": "python3"
  },
  "language_info": {
   "name": "python",
   "version": "3.10.14",
   "mimetype": "text/x-python",
   "codemirror_mode": {
    "name": "ipython",
    "version": 3
   },
   "pygments_lexer": "ipython3",
   "nbconvert_exporter": "python",
   "file_extension": ".py"
  },
  "kaggle": {
   "accelerator": "gpu",
   "dataSources": [
    {
     "sourceId": 2645886,
     "sourceType": "datasetVersion",
     "datasetId": 1608934
    },
    {
     "sourceId": 181746,
     "sourceType": "modelInstanceVersion",
     "isSourceIdPinned": true,
     "modelInstanceId": 154907,
     "modelId": 177380
    }
   ],
   "dockerImageVersionId": 30787,
   "isInternetEnabled": true,
   "language": "python",
   "sourceType": "notebook",
   "isGpuEnabled": true
  }
 },
 "nbformat_minor": 4,
 "nbformat": 4,
 "cells": [
  {
   "cell_type": "code",
   "source": "from tensorflow.keras.models import load_model\nimport os\nfrom PIL import Image\nimport numpy as np\nfrom tqdm import tqdm\nimport matplotlib.pyplot as plt\nimport tensorflow as tf\nfrom tensorflow.keras.preprocessing.image import ImageDataGenerator\nfrom sklearn.svm import SVC\nfrom sklearn.decomposition import PCA\nfrom sklearn.utils import shuffle\nfrom sklearn.metrics import fbeta_score",
   "metadata": {
    "_uuid": "8f2839f25d086af736a60e9eeb907d3b93b6e0e5",
    "_cell_guid": "b1076dfc-b9ad-4769-8c92-a6c4dae69d19",
    "trusted": true,
    "execution": {
     "iopub.status.busy": "2024-11-29T06:23:07.559058Z",
     "iopub.execute_input": "2024-11-29T06:23:07.559423Z",
     "iopub.status.idle": "2024-11-29T06:23:07.564361Z",
     "shell.execute_reply.started": "2024-11-29T06:23:07.559391Z",
     "shell.execute_reply": "2024-11-29T06:23:07.563517Z"
    },
    "ExecuteTime": {
     "end_time": "2024-12-04T12:24:46.673988Z",
     "start_time": "2024-12-04T12:24:38.148468Z"
    }
   },
   "outputs": [],
   "execution_count": 1
  },
  {
   "cell_type": "code",
   "source": [
    "source_dir_1 = 'brain_tumor_mri_dataset/Training/glioma'\n",
    "source_dir_2 = 'brain_tumor_mri_dataset/Training/meningioma'\n",
    "source_dir_3 = 'brain_tumor_mri_dataset/Training/notumor'\n",
    "source_dir_4 = 'brain_tumor_mri_dataset/Training/pituitary'"
   ],
   "metadata": {
    "trusted": true,
    "execution": {
     "iopub.status.busy": "2024-11-29T06:03:26.792641Z",
     "iopub.execute_input": "2024-11-29T06:03:26.793273Z",
     "iopub.status.idle": "2024-11-29T06:03:26.797577Z",
     "shell.execute_reply.started": "2024-11-29T06:03:26.793237Z",
     "shell.execute_reply": "2024-11-29T06:03:26.796572Z"
    },
    "ExecuteTime": {
     "end_time": "2024-12-04T12:24:46.692202Z",
     "start_time": "2024-12-04T12:24:46.674946Z"
    }
   },
   "outputs": [],
   "execution_count": 2
  },
  {
   "cell_type": "code",
   "source": [
    "test_dir_1 = 'brain_tumor_mri_dataset/Testing/glioma'\n",
    "test_dir_2 = 'brain_tumor_mri_dataset/Testing/meningioma'\n",
    "test_dir_3 = 'brain_tumor_mri_dataset/Testing/notumor'\n",
    "test_dir_4 = 'brain_tumor_mri_dataset/Testing/pituitary'"
   ],
   "metadata": {
    "trusted": true,
    "execution": {
     "iopub.status.busy": "2024-11-29T06:03:26.798794Z",
     "iopub.execute_input": "2024-11-29T06:03:26.799158Z",
     "iopub.status.idle": "2024-11-29T06:03:26.819436Z",
     "shell.execute_reply.started": "2024-11-29T06:03:26.799122Z",
     "shell.execute_reply": "2024-11-29T06:03:26.818563Z"
    },
    "ExecuteTime": {
     "end_time": "2024-12-04T12:24:46.699416Z",
     "start_time": "2024-12-04T12:24:46.693090Z"
    }
   },
   "outputs": [],
   "execution_count": 3
  },
  {
   "cell_type": "code",
   "source": [
    "images = []\n",
    "labels = []\n",
    "files = [f for f in sorted(os.listdir(source_dir_1))]\n",
    "for file in tqdm(files):\n",
    "    file_path = os.path.join(source_dir_1, file)\n",
    "    img = Image.open(file_path).resize((256,256)).convert('RGB')\n",
    "    img = np.array(img)\n",
    "    images.append(img)\n",
    "    labels.append(0)"
   ],
   "metadata": {
    "trusted": true,
    "execution": {
     "iopub.status.busy": "2024-11-29T06:03:26.821636Z",
     "iopub.execute_input": "2024-11-29T06:03:26.822318Z",
     "iopub.status.idle": "2024-11-29T06:03:39.365195Z",
     "shell.execute_reply.started": "2024-11-29T06:03:26.822290Z",
     "shell.execute_reply": "2024-11-29T06:03:39.364349Z"
    },
    "ExecuteTime": {
     "end_time": "2024-12-04T12:25:31.141848Z",
     "start_time": "2024-12-04T12:25:28.267822Z"
    }
   },
   "outputs": [
    {
     "name": "stderr",
     "output_type": "stream",
     "text": [
      "100%|██████████| 1321/1321 [00:02<00:00, 462.45it/s]\n"
     ]
    }
   ],
   "execution_count": 4
  },
  {
   "cell_type": "code",
   "source": [
    "files = [f for f in sorted(os.listdir(source_dir_2))]\n",
    "for file in tqdm(files):\n",
    "    file_path = os.path.join(source_dir_2, file)\n",
    "    img = Image.open(file_path).resize((256,256)).convert('RGB')\n",
    "    img = np.array(img)\n",
    "    images.append(img)\n",
    "    labels.append(1)"
   ],
   "metadata": {
    "trusted": true,
    "execution": {
     "iopub.status.busy": "2024-11-29T06:03:39.366227Z",
     "iopub.execute_input": "2024-11-29T06:03:39.366490Z",
     "iopub.status.idle": "2024-11-29T06:03:53.363951Z",
     "shell.execute_reply.started": "2024-11-29T06:03:39.366465Z",
     "shell.execute_reply": "2024-11-29T06:03:53.363116Z"
    },
    "ExecuteTime": {
     "end_time": "2024-12-04T12:25:34.857941Z",
     "start_time": "2024-12-04T12:25:31.142854Z"
    }
   },
   "outputs": [
    {
     "name": "stderr",
     "output_type": "stream",
     "text": [
      "100%|██████████| 1339/1339 [00:03<00:00, 361.45it/s]\n"
     ]
    }
   ],
   "execution_count": 5
  },
  {
   "cell_type": "code",
   "source": [
    "files = [f for f in sorted(os.listdir(source_dir_3))]\n",
    "for file in tqdm(files):\n",
    "    file_path = os.path.join(source_dir_3, file)\n",
    "    img = Image.open(file_path).resize((256,256)).convert('RGB')\n",
    "    img = np.array(img)\n",
    "    images.append(img)\n",
    "    labels.append(2)"
   ],
   "metadata": {
    "trusted": true,
    "execution": {
     "iopub.status.busy": "2024-11-29T06:03:53.365024Z",
     "iopub.execute_input": "2024-11-29T06:03:53.365315Z",
     "iopub.status.idle": "2024-11-29T06:04:09.300162Z",
     "shell.execute_reply.started": "2024-11-29T06:03:53.365287Z",
     "shell.execute_reply": "2024-11-29T06:04:09.299240Z"
    },
    "ExecuteTime": {
     "end_time": "2024-12-04T12:25:37.947582Z",
     "start_time": "2024-12-04T12:25:34.859449Z"
    }
   },
   "outputs": [
    {
     "name": "stderr",
     "output_type": "stream",
     "text": [
      "100%|██████████| 1229/1229 [00:03<00:00, 400.50it/s]\n"
     ]
    }
   ],
   "execution_count": 6
  },
  {
   "cell_type": "code",
   "source": [
    "files = [f for f in sorted(os.listdir(source_dir_4))]\n",
    "for file in tqdm(files):\n",
    "    file_path = os.path.join(source_dir_4, file)\n",
    "    img = Image.open(file_path).resize((256,256)).convert('RGB')\n",
    "    img = np.array(img)\n",
    "    images.append(img)\n",
    "    labels.append(3)"
   ],
   "metadata": {
    "trusted": true,
    "execution": {
     "iopub.status.busy": "2024-11-29T06:04:09.301029Z",
     "iopub.execute_input": "2024-11-29T06:04:09.301279Z",
     "iopub.status.idle": "2024-11-29T06:04:24.465302Z",
     "shell.execute_reply.started": "2024-11-29T06:04:09.301255Z",
     "shell.execute_reply": "2024-11-29T06:04:24.464473Z"
    },
    "ExecuteTime": {
     "end_time": "2024-12-04T12:25:42.931748Z",
     "start_time": "2024-12-04T12:25:37.952609Z"
    }
   },
   "outputs": [
    {
     "name": "stderr",
     "output_type": "stream",
     "text": [
      "100%|██████████| 1457/1457 [00:04<00:00, 294.24it/s]\n"
     ]
    }
   ],
   "execution_count": 7
  },
  {
   "cell_type": "code",
   "source": [
    "images = np.array(images)\n",
    "labels = np.array(labels)\n",
    "images = tf.cast(images, tf.float32) / 255.0\n",
    "images.shape"
   ],
   "metadata": {
    "trusted": true,
    "execution": {
     "iopub.status.busy": "2024-11-29T06:04:24.466368Z",
     "iopub.execute_input": "2024-11-29T06:04:24.466650Z",
     "iopub.status.idle": "2024-11-29T06:04:26.906609Z",
     "shell.execute_reply.started": "2024-11-29T06:04:24.466626Z",
     "shell.execute_reply": "2024-11-29T06:04:26.905701Z"
    },
    "ExecuteTime": {
     "end_time": "2024-12-04T12:25:52.798442Z",
     "start_time": "2024-12-04T12:25:44.945190Z"
    }
   },
   "outputs": [
    {
     "data": {
      "text/plain": [
       "TensorShape([5346, 256, 256, 3])"
      ]
     },
     "execution_count": 8,
     "metadata": {},
     "output_type": "execute_result"
    }
   ],
   "execution_count": 8
  },
  {
   "cell_type": "code",
   "source": [
    "images_test = []\n",
    "labels_test = []\n",
    "files = [f for f in sorted(os.listdir(test_dir_1))]\n",
    "for file in tqdm(files):\n",
    "    file_path = os.path.join(test_dir_1, file)\n",
    "    img = Image.open(file_path).resize((256,256)).convert('RGB')\n",
    "    img = np.array(img)\n",
    "    images_test.append(img)\n",
    "    labels_test.append(0)"
   ],
   "metadata": {
    "trusted": true,
    "execution": {
     "iopub.status.busy": "2024-11-29T06:04:26.907695Z",
     "iopub.execute_input": "2024-11-29T06:04:26.907975Z",
     "iopub.status.idle": "2024-11-29T06:04:29.999824Z",
     "shell.execute_reply.started": "2024-11-29T06:04:26.907948Z",
     "shell.execute_reply": "2024-11-29T06:04:29.998898Z"
    },
    "ExecuteTime": {
     "end_time": "2024-12-04T12:27:16.528532Z",
     "start_time": "2024-12-04T12:27:15.583352Z"
    }
   },
   "outputs": [
    {
     "name": "stderr",
     "output_type": "stream",
     "text": [
      "100%|██████████| 300/300 [00:00<00:00, 329.77it/s]\n"
     ]
    }
   ],
   "execution_count": 9
  },
  {
   "cell_type": "code",
   "source": "files = [f for f in sorted(os.listdir(test_dir_2))]\nfor file in tqdm(files):\n    file_path = os.path.join(test_dir_2, file)\n    img = Image.open(file_path).resize((256,256)).convert('RGB')\n    img = np.array(img)\n    images_test.append(img)\n    labels_test.append(1)\n",
   "metadata": {
    "trusted": true,
    "execution": {
     "iopub.status.busy": "2024-11-29T06:04:30.002873Z",
     "iopub.execute_input": "2024-11-29T06:04:30.003219Z",
     "iopub.status.idle": "2024-11-29T06:04:33.662926Z",
     "shell.execute_reply.started": "2024-11-29T06:04:30.003192Z",
     "shell.execute_reply": "2024-11-29T06:04:33.662122Z"
    },
    "ExecuteTime": {
     "end_time": "2024-12-04T12:27:17.403122Z",
     "start_time": "2024-12-04T12:27:16.530546Z"
    }
   },
   "outputs": [
    {
     "name": "stderr",
     "output_type": "stream",
     "text": [
      "100%|██████████| 306/306 [00:00<00:00, 365.57it/s]\n"
     ]
    }
   ],
   "execution_count": 10
  },
  {
   "cell_type": "code",
   "source": "files = [f for f in sorted(os.listdir(test_dir_3))]\nfor file in tqdm(files):\n    file_path = os.path.join(test_dir_3, file)\n    img = Image.open(file_path).resize((256,256)).convert('RGB')\n    img = np.array(img)\n    images_test.append(img)\n    labels_test.append(2)\n",
   "metadata": {
    "trusted": true,
    "execution": {
     "iopub.status.busy": "2024-11-29T06:04:33.664184Z",
     "iopub.execute_input": "2024-11-29T06:04:33.664547Z",
     "iopub.status.idle": "2024-11-29T06:04:37.394506Z",
     "shell.execute_reply.started": "2024-11-29T06:04:33.664507Z",
     "shell.execute_reply": "2024-11-29T06:04:37.393606Z"
    },
    "ExecuteTime": {
     "end_time": "2024-12-04T12:27:18.271500Z",
     "start_time": "2024-12-04T12:27:17.405136Z"
    }
   },
   "outputs": [
    {
     "name": "stderr",
     "output_type": "stream",
     "text": [
      "100%|██████████| 405/405 [00:00<00:00, 495.93it/s]\n"
     ]
    }
   ],
   "execution_count": 11
  },
  {
   "cell_type": "code",
   "source": "files = [f for f in sorted(os.listdir(test_dir_4))]\nfor file in tqdm(files):\n    file_path = os.path.join(test_dir_4, file)\n    img = Image.open(file_path).resize((256,256)).convert('RGB')\n    img = np.array(img)\n    images_test.append(img)\n    labels_test.append(3)\n",
   "metadata": {
    "trusted": true,
    "execution": {
     "iopub.status.busy": "2024-11-29T06:04:37.395355Z",
     "iopub.execute_input": "2024-11-29T06:04:37.395600Z",
     "iopub.status.idle": "2024-11-29T06:04:40.222404Z",
     "shell.execute_reply.started": "2024-11-29T06:04:37.395577Z",
     "shell.execute_reply": "2024-11-29T06:04:40.221503Z"
    },
    "ExecuteTime": {
     "end_time": "2024-12-04T12:27:19.128506Z",
     "start_time": "2024-12-04T12:27:18.273507Z"
    }
   },
   "outputs": [
    {
     "name": "stderr",
     "output_type": "stream",
     "text": [
      "100%|██████████| 300/300 [00:00<00:00, 364.49it/s]\n"
     ]
    }
   ],
   "execution_count": 12
  },
  {
   "cell_type": "code",
   "source": "images_test = np.array(images_test)\nlabels_test = np.array(labels_test)\nimages_test = tf.cast(images_test, tf.float32) / 255.0\nimages_test.shape",
   "metadata": {
    "trusted": true,
    "execution": {
     "iopub.status.busy": "2024-11-29T06:04:40.223297Z",
     "iopub.execute_input": "2024-11-29T06:04:40.223570Z",
     "iopub.status.idle": "2024-11-29T06:04:40.671766Z",
     "shell.execute_reply.started": "2024-11-29T06:04:40.223540Z",
     "shell.execute_reply": "2024-11-29T06:04:40.670840Z"
    },
    "ExecuteTime": {
     "end_time": "2024-12-04T12:29:24.120855Z",
     "start_time": "2024-12-04T12:29:23.670802Z"
    }
   },
   "outputs": [
    {
     "data": {
      "text/plain": [
       "TensorShape([1311, 256, 256, 3])"
      ]
     },
     "execution_count": 16,
     "metadata": {},
     "output_type": "execute_result"
    }
   ],
   "execution_count": 16
  },
  {
   "cell_type": "code",
   "source": "model = load_model('unet-model.h5', compile = False)",
   "metadata": {
    "trusted": true,
    "execution": {
     "iopub.status.busy": "2024-11-29T06:04:40.673138Z",
     "iopub.execute_input": "2024-11-29T06:04:40.673509Z",
     "iopub.status.idle": "2024-11-29T06:04:42.726311Z",
     "shell.execute_reply.started": "2024-11-29T06:04:40.673470Z",
     "shell.execute_reply": "2024-11-29T06:04:42.725698Z"
    },
    "ExecuteTime": {
     "end_time": "2024-12-04T12:27:37.190627Z",
     "start_time": "2024-12-04T12:27:36.348021Z"
    }
   },
   "outputs": [],
   "execution_count": 14
  },
  {
   "cell_type": "code",
   "source": "predictions = model.predict(images)",
   "metadata": {
    "trusted": true,
    "execution": {
     "iopub.status.busy": "2024-11-29T06:04:42.727719Z",
     "iopub.execute_input": "2024-11-29T06:04:42.728082Z",
     "iopub.status.idle": "2024-11-29T06:06:05.910003Z",
     "shell.execute_reply.started": "2024-11-29T06:04:42.728021Z",
     "shell.execute_reply": "2024-11-29T06:06:05.909004Z"
    }
   },
   "outputs": [],
   "execution_count": null
  },
  {
   "cell_type": "code",
   "source": "predictions_test = model.predict(images_test)",
   "metadata": {
    "trusted": true,
    "execution": {
     "iopub.status.busy": "2024-11-29T06:06:05.911345Z",
     "iopub.execute_input": "2024-11-29T06:06:05.911634Z",
     "iopub.status.idle": "2024-11-29T06:06:35.062807Z",
     "shell.execute_reply.started": "2024-11-29T06:06:05.911607Z",
     "shell.execute_reply": "2024-11-29T06:06:35.061922Z"
    }
   },
   "outputs": [
    {
     "name": "stdout",
     "text": "\u001B[1m41/41\u001B[0m \u001B[32m━━━━━━━━━━━━━━━━━━━━\u001B[0m\u001B[37m\u001B[0m \u001B[1m28s\u001B[0m 686ms/step\n",
     "output_type": "stream"
    }
   ],
   "execution_count": 16
  },
  {
   "cell_type": "code",
   "source": "predictions = predictions.reshape(5346, -1)",
   "metadata": {
    "trusted": true,
    "execution": {
     "iopub.status.busy": "2024-11-29T06:07:01.353830Z",
     "iopub.execute_input": "2024-11-29T06:07:01.354488Z",
     "iopub.status.idle": "2024-11-29T06:07:01.358454Z",
     "shell.execute_reply.started": "2024-11-29T06:07:01.354451Z",
     "shell.execute_reply": "2024-11-29T06:07:01.357512Z"
    }
   },
   "outputs": [],
   "execution_count": 17
  },
  {
   "cell_type": "code",
   "source": "predictions_test = predictions_test.reshape(1311, -1)",
   "metadata": {
    "trusted": true,
    "execution": {
     "iopub.status.busy": "2024-11-29T06:07:01.909414Z",
     "iopub.execute_input": "2024-11-29T06:07:01.909692Z",
     "iopub.status.idle": "2024-11-29T06:07:01.913612Z",
     "shell.execute_reply.started": "2024-11-29T06:07:01.909667Z",
     "shell.execute_reply": "2024-11-29T06:07:01.912818Z"
    }
   },
   "outputs": [],
   "execution_count": 18
  },
  {
   "cell_type": "code",
   "source": "pca = PCA(n_components=100)\npca.fit(np.concatenate((predictions, predictions_test), axis=0))\ntumor_pca = pca.transform(predictions)\ntumor_pca.shape",
   "metadata": {
    "trusted": true,
    "execution": {
     "iopub.status.busy": "2024-11-29T06:34:32.786356Z",
     "iopub.execute_input": "2024-11-29T06:34:32.786686Z",
     "iopub.status.idle": "2024-11-29T06:34:53.930108Z",
     "shell.execute_reply.started": "2024-11-29T06:34:32.786656Z",
     "shell.execute_reply": "2024-11-29T06:34:53.928353Z"
    }
   },
   "outputs": [
    {
     "execution_count": 233,
     "output_type": "execute_result",
     "data": {
      "text/plain": "(5712, 100)"
     },
     "metadata": {}
    }
   ],
   "execution_count": 233
  },
  {
   "cell_type": "code",
   "source": [
    "tumor_pca_test = pca.transform(predictions_test)\n",
    "tumor_pca_test.shape"
   ],
   "metadata": {
    "trusted": true,
    "execution": {
     "iopub.status.busy": "2024-11-29T06:34:53.932011Z",
     "iopub.execute_input": "2024-11-29T06:34:53.935448Z",
     "iopub.status.idle": "2024-11-29T06:34:54.297504Z",
     "shell.execute_reply.started": "2024-11-29T06:34:53.935391Z",
     "shell.execute_reply": "2024-11-29T06:34:54.295663Z"
    }
   },
   "outputs": [
    {
     "execution_count": 234,
     "output_type": "execute_result",
     "data": {
      "text/plain": "(1311, 100)"
     },
     "metadata": {}
    }
   ],
   "execution_count": 234
  },
  {
   "cell_type": "code",
   "source": "tumor_pca_train, labels_train = shuffle(tumor_pca, labels)",
   "metadata": {
    "trusted": true,
    "execution": {
     "iopub.status.busy": "2024-11-29T06:34:54.298815Z",
     "iopub.execute_input": "2024-11-29T06:34:54.299301Z",
     "iopub.status.idle": "2024-11-29T06:34:54.311359Z",
     "shell.execute_reply.started": "2024-11-29T06:34:54.299250Z",
     "shell.execute_reply": "2024-11-29T06:34:54.310462Z"
    }
   },
   "outputs": [],
   "execution_count": 235
  },
  {
   "cell_type": "code",
   "source": "svm = SVC(kernel = 'rbf', C=13, gamma=0.01)\nsvm.fit(tumor_pca_train, labels_train)",
   "metadata": {
    "trusted": true,
    "execution": {
     "iopub.status.busy": "2024-11-29T06:39:43.044707Z",
     "iopub.execute_input": "2024-11-29T06:39:43.045408Z",
     "iopub.status.idle": "2024-11-29T06:39:45.076601Z",
     "shell.execute_reply.started": "2024-11-29T06:39:43.045369Z",
     "shell.execute_reply": "2024-11-29T06:39:45.075719Z"
    }
   },
   "outputs": [
    {
     "execution_count": 320,
     "output_type": "execute_result",
     "data": {
      "text/plain": "SVC(C=13, gamma=0.01)",
      "text/html": "<style>#sk-container-id-92 {color: black;background-color: white;}#sk-container-id-92 pre{padding: 0;}#sk-container-id-92 div.sk-toggleable {background-color: white;}#sk-container-id-92 label.sk-toggleable__label {cursor: pointer;display: block;width: 100%;margin-bottom: 0;padding: 0.3em;box-sizing: border-box;text-align: center;}#sk-container-id-92 label.sk-toggleable__label-arrow:before {content: \"▸\";float: left;margin-right: 0.25em;color: #696969;}#sk-container-id-92 label.sk-toggleable__label-arrow:hover:before {color: black;}#sk-container-id-92 div.sk-estimator:hover label.sk-toggleable__label-arrow:before {color: black;}#sk-container-id-92 div.sk-toggleable__content {max-height: 0;max-width: 0;overflow: hidden;text-align: left;background-color: #f0f8ff;}#sk-container-id-92 div.sk-toggleable__content pre {margin: 0.2em;color: black;border-radius: 0.25em;background-color: #f0f8ff;}#sk-container-id-92 input.sk-toggleable__control:checked~div.sk-toggleable__content {max-height: 200px;max-width: 100%;overflow: auto;}#sk-container-id-92 input.sk-toggleable__control:checked~label.sk-toggleable__label-arrow:before {content: \"▾\";}#sk-container-id-92 div.sk-estimator input.sk-toggleable__control:checked~label.sk-toggleable__label {background-color: #d4ebff;}#sk-container-id-92 div.sk-label input.sk-toggleable__control:checked~label.sk-toggleable__label {background-color: #d4ebff;}#sk-container-id-92 input.sk-hidden--visually {border: 0;clip: rect(1px 1px 1px 1px);clip: rect(1px, 1px, 1px, 1px);height: 1px;margin: -1px;overflow: hidden;padding: 0;position: absolute;width: 1px;}#sk-container-id-92 div.sk-estimator {font-family: monospace;background-color: #f0f8ff;border: 1px dotted black;border-radius: 0.25em;box-sizing: border-box;margin-bottom: 0.5em;}#sk-container-id-92 div.sk-estimator:hover {background-color: #d4ebff;}#sk-container-id-92 div.sk-parallel-item::after {content: \"\";width: 100%;border-bottom: 1px solid gray;flex-grow: 1;}#sk-container-id-92 div.sk-label:hover label.sk-toggleable__label {background-color: #d4ebff;}#sk-container-id-92 div.sk-serial::before {content: \"\";position: absolute;border-left: 1px solid gray;box-sizing: border-box;top: 0;bottom: 0;left: 50%;z-index: 0;}#sk-container-id-92 div.sk-serial {display: flex;flex-direction: column;align-items: center;background-color: white;padding-right: 0.2em;padding-left: 0.2em;position: relative;}#sk-container-id-92 div.sk-item {position: relative;z-index: 1;}#sk-container-id-92 div.sk-parallel {display: flex;align-items: stretch;justify-content: center;background-color: white;position: relative;}#sk-container-id-92 div.sk-item::before, #sk-container-id-92 div.sk-parallel-item::before {content: \"\";position: absolute;border-left: 1px solid gray;box-sizing: border-box;top: 0;bottom: 0;left: 50%;z-index: -1;}#sk-container-id-92 div.sk-parallel-item {display: flex;flex-direction: column;z-index: 1;position: relative;background-color: white;}#sk-container-id-92 div.sk-parallel-item:first-child::after {align-self: flex-end;width: 50%;}#sk-container-id-92 div.sk-parallel-item:last-child::after {align-self: flex-start;width: 50%;}#sk-container-id-92 div.sk-parallel-item:only-child::after {width: 0;}#sk-container-id-92 div.sk-dashed-wrapped {border: 1px dashed gray;margin: 0 0.4em 0.5em 0.4em;box-sizing: border-box;padding-bottom: 0.4em;background-color: white;}#sk-container-id-92 div.sk-label label {font-family: monospace;font-weight: bold;display: inline-block;line-height: 1.2em;}#sk-container-id-92 div.sk-label-container {text-align: center;}#sk-container-id-92 div.sk-container {/* jupyter's `normalize.less` sets `[hidden] { display: none; }` but bootstrap.min.css set `[hidden] { display: none !important; }` so we also need the `!important` here to be able to override the default hidden behavior on the sphinx rendered scikit-learn.org. See: https://github.com/scikit-learn/scikit-learn/issues/21755 */display: inline-block !important;position: relative;}#sk-container-id-92 div.sk-text-repr-fallback {display: none;}</style><div id=\"sk-container-id-92\" class=\"sk-top-container\"><div class=\"sk-text-repr-fallback\"><pre>SVC(C=13, gamma=0.01)</pre><b>In a Jupyter environment, please rerun this cell to show the HTML representation or trust the notebook. <br />On GitHub, the HTML representation is unable to render, please try loading this page with nbviewer.org.</b></div><div class=\"sk-container\" hidden><div class=\"sk-item\"><div class=\"sk-estimator sk-toggleable\"><input class=\"sk-toggleable__control sk-hidden--visually\" id=\"sk-estimator-id-92\" type=\"checkbox\" checked><label for=\"sk-estimator-id-92\" class=\"sk-toggleable__label sk-toggleable__label-arrow\">SVC</label><div class=\"sk-toggleable__content\"><pre>SVC(C=13, gamma=0.01)</pre></div></div></div></div></div>"
     },
     "metadata": {}
    }
   ],
   "execution_count": 320
  },
  {
   "cell_type": "code",
   "source": "svm.score(tumor_pca, labels)",
   "metadata": {
    "trusted": true,
    "execution": {
     "iopub.status.busy": "2024-11-29T06:39:45.078251Z",
     "iopub.execute_input": "2024-11-29T06:39:45.078927Z",
     "iopub.status.idle": "2024-11-29T06:39:46.940306Z",
     "shell.execute_reply.started": "2024-11-29T06:39:45.078883Z",
     "shell.execute_reply": "2024-11-29T06:39:46.939456Z"
    }
   },
   "outputs": [
    {
     "execution_count": 321,
     "output_type": "execute_result",
     "data": {
      "text/plain": "0.946953781512605"
     },
     "metadata": {}
    }
   ],
   "execution_count": 321
  },
  {
   "cell_type": "code",
   "source": "svm.score(tumor_pca_test, labels_test)",
   "metadata": {
    "trusted": true,
    "execution": {
     "iopub.status.busy": "2024-11-29T06:39:46.941276Z",
     "iopub.execute_input": "2024-11-29T06:39:46.941548Z",
     "iopub.status.idle": "2024-11-29T06:39:47.374750Z",
     "shell.execute_reply.started": "2024-11-29T06:39:46.941522Z",
     "shell.execute_reply": "2024-11-29T06:39:47.373871Z"
    }
   },
   "outputs": [
    {
     "execution_count": 322,
     "output_type": "execute_result",
     "data": {
      "text/plain": "0.8245614035087719"
     },
     "metadata": {}
    }
   ],
   "execution_count": 322
  },
  {
   "cell_type": "code",
   "source": "svm_predictions = svm.predict(tumor_pca_test)",
   "metadata": {
    "trusted": true,
    "execution": {
     "iopub.status.busy": "2024-11-29T06:40:07.292641Z",
     "iopub.execute_input": "2024-11-29T06:40:07.293509Z",
     "iopub.status.idle": "2024-11-29T06:40:07.730458Z",
     "shell.execute_reply.started": "2024-11-29T06:40:07.293472Z",
     "shell.execute_reply": "2024-11-29T06:40:07.729516Z"
    }
   },
   "outputs": [],
   "execution_count": 323
  },
  {
   "cell_type": "code",
   "source": "fbeta_score(svm_predictions, labels_test, beta=10, average='weighted')",
   "metadata": {
    "trusted": true,
    "execution": {
     "iopub.status.busy": "2024-11-29T06:40:26.977691Z",
     "iopub.execute_input": "2024-11-29T06:40:26.978503Z",
     "iopub.status.idle": "2024-11-29T06:40:26.986019Z",
     "shell.execute_reply.started": "2024-11-29T06:40:26.978468Z",
     "shell.execute_reply": "2024-11-29T06:40:26.985085Z"
    }
   },
   "outputs": [
    {
     "execution_count": 327,
     "output_type": "execute_result",
     "data": {
      "text/plain": "0.8245787823280673"
     },
     "metadata": {}
    }
   ],
   "execution_count": 327
  },
  {
   "cell_type": "code",
   "source": "temp_labels = np.where(np.isin(labels_test, [0, 1, 3]), 0, 1)",
   "metadata": {
    "trusted": true,
    "execution": {
     "iopub.status.busy": "2024-11-29T06:49:11.467760Z",
     "iopub.execute_input": "2024-11-29T06:49:11.468398Z",
     "iopub.status.idle": "2024-11-29T06:49:11.473261Z",
     "shell.execute_reply.started": "2024-11-29T06:49:11.468363Z",
     "shell.execute_reply": "2024-11-29T06:49:11.472366Z"
    }
   },
   "outputs": [],
   "execution_count": 328
  },
  {
   "cell_type": "code",
   "source": "svm_predictions = np.where(np.isin(labels_test, [0,1,3]), 0, 1)",
   "metadata": {
    "trusted": true,
    "execution": {
     "iopub.status.busy": "2024-11-29T06:49:12.224719Z",
     "iopub.execute_input": "2024-11-29T06:49:12.225021Z",
     "iopub.status.idle": "2024-11-29T06:49:12.230309Z",
     "shell.execute_reply.started": "2024-11-29T06:49:12.224995Z",
     "shell.execute_reply": "2024-11-29T06:49:12.229253Z"
    }
   },
   "outputs": [],
   "execution_count": 329
  },
  {
   "cell_type": "code",
   "source": "fbeta_score(svm_predictions, temp_labels, beta=2, average='weighted')",
   "metadata": {
    "trusted": true,
    "execution": {
     "iopub.status.busy": "2024-11-29T06:49:37.535267Z",
     "iopub.execute_input": "2024-11-29T06:49:37.535617Z",
     "iopub.status.idle": "2024-11-29T06:49:37.544246Z",
     "shell.execute_reply.started": "2024-11-29T06:49:37.535585Z",
     "shell.execute_reply": "2024-11-29T06:49:37.543299Z"
    }
   },
   "outputs": [
    {
     "execution_count": 330,
     "output_type": "execute_result",
     "data": {
      "text/plain": "1.0"
     },
     "metadata": {}
    }
   ],
   "execution_count": 330
  }
 ]
}
