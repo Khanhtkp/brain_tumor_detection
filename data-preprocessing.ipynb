{
 "cells": [
  {
   "cell_type": "code",
   "id": "initial_id",
   "metadata": {
    "collapsed": true,
    "ExecuteTime": {
     "end_time": "2024-11-26T14:29:19.616732Z",
     "start_time": "2024-11-26T14:29:19.173768Z"
    }
   },
   "source": [
    "import os\n",
    "import shutil\n",
    "from tqdm import tqdm\n",
    "import glob\n",
    "from PIL import Image"
   ],
   "outputs": [],
   "execution_count": 14
  },
  {
   "metadata": {
    "ExecuteTime": {
     "end_time": "2024-11-26T14:37:38.170493Z",
     "start_time": "2024-11-26T14:37:38.166684Z"
    }
   },
   "cell_type": "code",
   "source": [
    "src_folder = 'brain_mri_classification/training/notumor/'\n",
    "des_folder = 'brain_mri_segmentation/images/'\n",
    "des_mask_folder = 'brain_mri_segmentation/masks/'"
   ],
   "id": "840d79a59f6cdf6b",
   "outputs": [],
   "execution_count": 19
  },
  {
   "metadata": {
    "ExecuteTime": {
     "end_time": "2024-11-26T14:35:45.956867Z",
     "start_time": "2024-11-26T14:35:13.654214Z"
    }
   },
   "cell_type": "code",
   "source": [
    "i=0\n",
    "for file in tqdm(sorted(os.listdir(src_folder))):\n",
    "    source_path = os.path.join(src_folder, file)\n",
    "    img = Image.open(source_path)\n",
    "    new_file =  f'{i+3065}.png'\n",
    "    dest_path = os.path.join(des_folder, new_file)\n",
    "    img.convert('RGB').save(dest_path, 'PNG')\n",
    "    i+=1"
   ],
   "id": "5a4d792796aac3d4",
   "outputs": [
    {
     "name": "stderr",
     "output_type": "stream",
     "text": [
      "100%|██████████| 1229/1229 [00:32<00:00, 38.06it/s]\n"
     ]
    }
   ],
   "execution_count": 17
  },
  {
   "metadata": {
    "ExecuteTime": {
     "end_time": "2024-11-26T14:53:38.777993Z",
     "start_time": "2024-11-26T14:53:38.040185Z"
    }
   },
   "cell_type": "code",
   "source": [
    "mask_file = 'TCGA_CS_4941_19960909_4_mask.tif'\n",
    "img = Image.open(mask_file)\n",
    "for i in tqdm(range(1229)):\n",
    "    new_file = f'{i+3065}.png'\n",
    "    dest_path = os.path.join(des_mask_folder, new_file)\n",
    "    img.save(dest_path, 'PNG')\n",
    "    i+=1"
   ],
   "id": "7517815499199adc",
   "outputs": [
    {
     "name": "stderr",
     "output_type": "stream",
     "text": [
      "100%|██████████| 1229/1229 [00:00<00:00, 1680.28it/s]\n"
     ]
    }
   ],
   "execution_count": 21
  }
 ],
 "metadata": {
  "kernelspec": {
   "display_name": "Python 3",
   "language": "python",
   "name": "python3"
  },
  "language_info": {
   "codemirror_mode": {
    "name": "ipython",
    "version": 2
   },
   "file_extension": ".py",
   "mimetype": "text/x-python",
   "name": "python",
   "nbconvert_exporter": "python",
   "pygments_lexer": "ipython2",
   "version": "2.7.6"
  }
 },
 "nbformat": 4,
 "nbformat_minor": 5
}
